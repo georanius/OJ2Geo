{
 "cells": [
  {
   "cell_type": "markdown",
   "id": "ffb26d51-8443-4a06-b7c4-067c28b66340",
   "metadata": {},
   "source": [
    "## Reading SEG2 files from shotsgahters and sort traces as CMP gather\n",
    "Strategy: read all files in a loop, pack all x-t-matrices into cube with dimensions of time reciever positions and source positions.\n",
    "Then we count up the diagonals of the matrix of source postions and index and the anty-diagonal thrue the matrix of recievers."
   ]
  },
  {
   "cell_type": "code",
   "execution_count": 14,
   "id": "df0538cf-bc48-4083-a9c2-b9b145620c3f",
   "metadata": {},
   "outputs": [],
   "source": [
    "import numpy as np\n",
    "import matplotlib.pyplot as plt\n",
    "from obspy import read  #read function\n",
    "import os"
   ]
  },
  {
   "cell_type": "code",
   "execution_count": 15,
   "id": "a2966900-147f-46d6-977f-ea29272ac309",
   "metadata": {},
   "outputs": [],
   "source": [
    "Datadir='Leine6-7-23/'  #type in here the data filefolder which have to be in the recent folder of this notebook\n",
    "fileNames=os.listdir(Datadir) #that'll gives a list of all files ind the folder with that name\n",
    "fileNames = [i for i in fileNames if i.endswith('.dat')] #select only data files\n",
    "fileNames.sort()   #sort them bei title number what accords to the shotnumber which you might recunstruct where you did the shot"
   ]
  },
  {
   "cell_type": "code",
   "execution_count": 16,
   "id": "d346948b-0117-48d3-9456-d77ba68efee4",
   "metadata": {},
   "outputs": [
    {
     "name": "stderr",
     "output_type": "stream",
     "text": [
      "/home/goeran/.local/lib/python3.10/site-packages/obspy/io/seg2/seg2.py:365: UserWarning: Many companies use custom defined SEG2 header variables. This might cause basic header information reflected in the single traces' stats to be wrong (e.g. recording delays, first sample number, station code names, ..). Please check the complete list of additional unmapped header fields that gets stored in Trace.stats.seg2 and/or the manual of the source of the SEG2 files for fields that might influence e.g. trace start times.\n",
      "  warnings.warn(WARNING_HEADER)\n"
     ]
    }
   ],
   "source": [
    "nf=len(fileNames) # Number of files is number of shots\n",
    "seg2_data = read(Datadir+fileNames[0], format='SEG2')  # Read the first file of the first shot \n",
    "nt=len(seg2_data[0].data) #to get number of time samples, assumung that for all data in data set. Otherway pray that the field operator did not change parameters over the dataset\n",
    "nx = len(seg2_data) #number of all traces in one file\n",
    "shotga = np.zeros((nt, nx)) #allocating matrix as shotgather\n",
    "reclox=np.zeros((nx))  #and for the reciever locations\n",
    "srcloc=np.zeros((nf))  #and for source locations"
   ]
  },
  {
   "cell_type": "code",
   "execution_count": 17,
   "id": "41e69cd7-3135-4011-ac64-613fe4f2273f",
   "metadata": {},
   "outputs": [],
   "source": [
    "Cube=np.zeros((nt,nx,nf)) #allocation a 3D array wit dimensions_ timesamples, recieverpositions and shotpositions\n",
    "for fi in range(0,nf):# Loop through each SEG2 file representing a shot\n",
    "    seg2_data = read(Datadir+fileNames[fi], format='SEG2')  # Load the SEG2 file   \n",
    "    #tracy =np.zeros((nt,1))\n",
    "    shotga = np.zeros((nt, nx))\n",
    "    # Iterate through the traces for the current shot and store their data\n",
    "    for j in range(nx):\n",
    "\n",
    "        tracy=seg2_data[j].data #a trace        \n",
    "        Hff=np.linspace(0,np.max(tracy),nt)#**2 #some amplitude spherical correction\n",
    "        tracy=tracy*Hff\n",
    "        tracy=tracy/(np.max(tracy))\n",
    "        shotga[:,j] = tracy   \n",
    "        reclox[j] = float(seg2_data[j].stats.seg2['RECEIVER_LOCATION'])\n",
    "    srcloc[fi]=float(seg2_data[0].stats.seg2['SOURCE_LOCATION'])#should not change\n",
    "    Cube[:,:,fi]=shotga"
   ]
  },
  {
   "cell_type": "code",
   "execution_count": 18,
   "id": "e0cc0613-9035-4686-88c3-34f2472fa37f",
   "metadata": {},
   "outputs": [],
   "source": [
    "dt=float(seg2_data[j].stats.delta) #if you like seconds...\n",
    "np.shape(Cube) #voila the cube\n",
    "np.savez('Cube_tata', Cube)"
   ]
  },
  {
   "cell_type": "code",
   "execution_count": 7,
   "id": "1742a11f-406a-49ff-a458-6b4143d78f4a",
   "metadata": {},
   "outputs": [],
   "source": [
    "#Ok we shift all positions to positiv values, especially when we count forward and back thats more clear.\n",
    "#source locations, starting from zero and the receiver positions accordingly\n",
    "srcloz=srcloc-np.min(srcloc) #[  0.,   4.,   8.,  12., ....... 180., 184., 188., 192., 196., 200.]\n",
    "recloz=reclox-np.min(srcloc) #[ 52.,  56.,  60.,  64., .....  228., 232., 236., 240.]"
   ]
  },
  {
   "cell_type": "code",
   "execution_count": 11,
   "id": "2d4fc759-cefd-4fdd-9642-d12efe35c97b",
   "metadata": {},
   "outputs": [
    {
     "data": {
      "text/plain": [
       "[(51, 48), (51, 48)]"
      ]
     },
     "execution_count": 11,
     "metadata": {},
     "output_type": "execute_result"
    }
   ],
   "source": [
    "rm, sm = np.meshgrid(recloz,srcloz) #blowing up matrizes with positions \n",
    "ri, si = np.meshgrid(np.arange(0, nx, 1),np.arange(0, nf, 1))# nf X nx matrizen\n",
    "[np.shape(ri),np.shape(rm)]"
   ]
  },
  {
   "cell_type": "code",
   "execution_count": null,
   "id": "b3aed1f9-ba28-4927-aafe-0e87ab5349cd",
   "metadata": {},
   "outputs": [],
   "source": [
    "for sii in range(-nx,nf-(nf-nx)-1):           #counting all diagonals of the kordinaten and index matrizes\n",
    "    disrc=np.diagonal(sm,sii)                #diagonal elements form source-matrix (sm)\n",
    "    direc=np.diagonal(np.fliplr(rm),sii)     #diagonals from reciever-matrix (rm) but in reversed order .... same indexes produce Common offesets\n",
    "\n",
    "    disrci=np.diagonal(si,sii)            # the indizes of sources \n",
    "    direci=np.diagonal(np.fliplr(ri),sii) #\n",
    "    \n",
    "    Zoffesets=(direc-disrc)/2            # offests from midpoint\n",
    "    mip=disrc+Zoffesets                   # midpoint as a vector of all offsets to check, are alle the same... one should be enough\n",
    "    #### uncomment and use this printfunctions to get all combinations of possible CMPS  \n",
    "    #print(sii,Zoffesets, np.mean(mip))\n",
    "    #print(sii,disrci,direci)\n",
    "    fig = plt.figure(figsize=(10, 5))\n",
    "    ax = fig.add_subplot(1, 2, 1)\n",
    "    ax.set_title(f'Midpoint at: {np.mean(mip)}')\n",
    "    ax.set_xlabel('reciever postion (m)')\n",
    "    ax.set_ylabel('time (s)')\n",
    "    #cmap = ax.imshow(Cube[:,direci,disrci], aspect='auto',interpolation='none')\n",
    "    cmap = ax.pcolormesh(direc, np.linspace(0,dt*nt,nt), Cube[:,direci,disrci])#, vmin= -0.1, vmax= 0.1)\n",
    "    plt.gca().invert_yaxis()\n",
    "    #plt.gca().invert_xaxis()\n",
    "    fig.colorbar(cmap)\n",
    "    \n",
    "\n",
    "    "
   ]
  },
  {
   "cell_type": "code",
   "execution_count": 13,
   "id": "754ad549-dfa0-4c5c-a4bf-f6f40fee4742",
   "metadata": {},
   "outputs": [],
   "source": [
    "\n"
   ]
  },
  {
   "cell_type": "raw",
   "id": "f14395fd-745f-40c9-b2b4-a8fdb3b17f3b",
   "metadata": {},
   "source": [
    "for ints in range(10,nt,50):\n",
    "    c = plt.imshow(Cube[ints,:,:],aspect='auto')    \n",
    "    plt.colorbar(c)\n",
    "    plt.show()"
   ]
  },
  {
   "cell_type": "raw",
   "id": "5fd6ca42-f779-45dc-a9a5-863f72fe27b9",
   "metadata": {},
   "source": [
    "for inl in range(30,nx):\n",
    "    c = plt.imshow(Cube[:,inl,:],aspect='auto',interpolation='none')    \n",
    "    plt.colorbar(c)\n",
    "#plt.pcolor(X, Y, v, cmap=cm)\n",
    "   # plt.clim(-0.4,0.4)  \n",
    "    plt.show()"
   ]
  },
  {
   "cell_type": "raw",
   "id": "2cc06afd-544a-479c-b4da-95e13570967e",
   "metadata": {
    "tags": []
   },
   "source": [
    "for ixr in range(nf):\n",
    "    c = plt.imshow(Cube[:,:,ixr],aspect='auto')    \n",
    "    plt.colorbar(c)\n",
    "#plt.pcolor(X, Y, v, cmap=cm)\n",
    "    #plt.clim(-0.4,0.4)  \n",
    "    plt.show()\n"
   ]
  }
 ],
 "metadata": {
  "kernelspec": {
   "display_name": "Python 3 (ipykernel)",
   "language": "python",
   "name": "python3"
  },
  "language_info": {
   "codemirror_mode": {
    "name": "ipython",
    "version": 3
   },
   "file_extension": ".py",
   "mimetype": "text/x-python",
   "name": "python",
   "nbconvert_exporter": "python",
   "pygments_lexer": "ipython3",
   "version": "3.10.12"
  }
 },
 "nbformat": 4,
 "nbformat_minor": 5
}
