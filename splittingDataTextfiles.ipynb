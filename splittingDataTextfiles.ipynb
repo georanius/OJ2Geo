{
 "cells": [
  {
   "cell_type": "markdown",
   "id": "c028f647-8a57-42a2-babe-14d83ff47582",
   "metadata": {},
   "source": [
    "# Digitale Techniken: Some data reading code for weatherstation data\n",
    "January 2023, J. Kerch and G. Liebs\n",
    "\n",
    "<img src=\"https://mirrors.creativecommons.org/presskit/buttons/88x31/png/by-nc-sa.png\" style=\"height:50px\" align=\"left\"/> <br><br>\n",
    "\n",
    "https://creativecommons.org/licenses/by-nc-sa/4.0/"
   ]
  },
  {
   "cell_type": "markdown",
   "id": "9d120480-8624-4dec-be49-b19c893cda6d",
   "metadata": {},
   "source": [
    "You can use code from this jupyter notebook (specifically, for your project work), if you declare it.<br>\n",
    "But please, don't just copy and paste it, instead adapt it to your needs, write your own comments."
   ]
  },
  {
   "cell_type": "markdown",
   "id": "70322ff0-7b1e-47c6-a698-0bdb0da4b719",
   "metadata": {},
   "source": [
    "### Before the analysis: consider metadata of all the measurements\n",
    "- which data is matching your own measurement period?\n",
    "- which data are outdoor/indoor measurements?\n",
    "- which data do you think is interesting to look at or comparable with your own data?\n",
    "- collect coordinates of all measurements (3 columns: lat/long/owner, make sure you use the required format for the coordinates, might need to convert)"
   ]
  },
  {
   "cell_type": "markdown",
   "id": "c8ed2d88-2c74-49e5-8c43-9ec8e91838ff",
   "metadata": {},
   "source": [
    "## Overview\n",
    "\n",
    "Not all aspects might be relevant to your work.\n",
    "\n",
    "- Access the data files\n",
    "- Assess metadata\n",
    "- Split data file with multiple data sets\n",
    "- Open and read data file **(the standard way)**\n",
    "- Read data file to access the data as data frame **(the pandas way)**\n",
    "- Read the data as a structured array using a conversion function for datetime **(the numpy way)**"
   ]
  },
  {
   "cell_type": "code",
   "execution_count": 1,
   "id": "ddbb451d-25cd-4fcc-b295-1b058a94a4b6",
   "metadata": {},
   "outputs": [
    {
     "name": "stdout",
     "output_type": "stream",
     "text": [
      "Requirement already satisfied: scipy in /home/goeran/micromamba/envs/ipylab/lib/python3.12/site-packages (1.11.4)\n",
      "Requirement already satisfied: numpy<1.28.0,>=1.21.6 in /home/goeran/micromamba/envs/ipylab/lib/python3.12/site-packages (from scipy) (1.26.2)\n",
      "Note: you may need to restart the kernel to use updated packages.\n"
     ]
    }
   ],
   "source": [
    "pip install scipy"
   ]
  },
  {
   "cell_type": "code",
   "execution_count": 2,
   "id": "6c66c2fe-bb97-4843-b0a2-400001a9c06f",
   "metadata": {},
   "outputs": [
    {
     "name": "stdout",
     "output_type": "stream",
     "text": [
      "Requirement already satisfied: pandas in /home/goeran/micromamba/envs/ipylab/lib/python3.12/site-packages (2.1.4)\n",
      "Requirement already satisfied: numpy<2,>=1.26.0 in /home/goeran/micromamba/envs/ipylab/lib/python3.12/site-packages (from pandas) (1.26.2)\n",
      "Requirement already satisfied: python-dateutil>=2.8.2 in /home/goeran/micromamba/envs/ipylab/lib/python3.12/site-packages (from pandas) (2.8.2)\n",
      "Requirement already satisfied: pytz>=2020.1 in /home/goeran/micromamba/envs/ipylab/lib/python3.12/site-packages (from pandas) (2023.3.post1)\n",
      "Requirement already satisfied: tzdata>=2022.1 in /home/goeran/micromamba/envs/ipylab/lib/python3.12/site-packages (from pandas) (2023.3)\n",
      "Requirement already satisfied: six>=1.5 in /home/goeran/micromamba/envs/ipylab/lib/python3.12/site-packages (from python-dateutil>=2.8.2->pandas) (1.16.0)\n"
     ]
    }
   ],
   "source": [
    "!pip install pandas"
   ]
  },
  {
   "cell_type": "code",
   "execution_count": 3,
   "id": "226b4fcf-482b-4148-bd16-d50c184ab77a",
   "metadata": {
    "tags": []
   },
   "outputs": [],
   "source": [
    "from glob import glob\n",
    "import os\n",
    "import numpy as np\n",
    "import matplotlib.pyplot as plt\n",
    "import pandas as pd\n",
    "import scipy as sp\n",
    "from io import StringIO"
   ]
  },
  {
   "cell_type": "markdown",
   "id": "9effa1a9-b43b-470f-ae45-567e8e930ce0",
   "metadata": {},
   "source": [
    "### Access the data files"
   ]
  },
  {
   "cell_type": "code",
   "execution_count": 4,
   "id": "2c3bf851-0f9b-4f06-be43-59c20008acc2",
   "metadata": {
    "tags": []
   },
   "outputs": [
    {
     "name": "stdout",
     "output_type": "stream",
     "text": [
      "data/*.txt\n",
      "['data/data.txt']\n"
     ]
    }
   ],
   "source": [
    "# create path to data in txt format\n",
    "# get files as sorted list from this path\n",
    "path = os.path.join( \"data\",'*.txt')\n",
    "files = sorted(glob(path))\n",
    "\n",
    "print(path)\n",
    "print(files)"
   ]
  },
  {
   "cell_type": "markdown",
   "id": "b16d119f-98cc-4db4-b856-c1789f15bc0d",
   "metadata": {},
   "source": [
    "### Open and read data file (the standard way)"
   ]
  },
  {
   "cell_type": "code",
   "execution_count": 5,
   "id": "6970331e-6865-4da1-96cf-6718d19b294e",
   "metadata": {
    "tags": []
   },
   "outputs": [],
   "source": [
    "# open data file by reading it line by line\n",
    "with open(files[0],'r') as file:\n",
    "    data_lines = file.readlines()"
   ]
  },
  {
   "cell_type": "code",
   "execution_count": 6,
   "id": "98166097-0bc2-45cb-8d3b-dc3104cc2810",
   "metadata": {
    "tags": []
   },
   "outputs": [
    {
     "data": {
      "text/plain": [
       "50781"
      ]
     },
     "execution_count": 6,
     "metadata": {},
     "output_type": "execute_result"
    }
   ],
   "source": [
    "# how much data (lines i.e. measurements incl. header)?\n",
    "# too long to print() -- will return an error connected to jupyter settings\n",
    "len(data_lines)"
   ]
  },
  {
   "cell_type": "code",
   "execution_count": 7,
   "id": "34bccb74-1e92-4152-b0b7-c5eedf1433dd",
   "metadata": {
    "tags": []
   },
   "outputs": [
    {
     "name": "stdout",
     "output_type": "stream",
     "text": [
      "['Time,Longitude,Latitude,Altitude,CO2,p,Light,T,h\\n', 'Time,Longitude,Latitude,Altitude,CO2,p,Light,T,h\\n', 'Time,Longitude,Latitude,Altitude,CO2,p,Light,T,h\\n', '2023-12-02 09:54:00,9.967963,51.405773,0.0,502,97066,28.35,6.52,40.04\\n', '2023-12-02 09:54:02,9.967979,51.405761,0.0,478,97074,27.86,6.45,39.98\\n', '2023-12-02 09:54:04,9.968000,51.405757,0.0,403,97082,28.35,6.44,39.99\\n', '2023-12-02 09:54:06,9.968023,51.405750,0.0,333,97110,28.15,6.38,40.01\\n', '2023-12-02 09:54:08,9.968046,51.405746,0.0,273,97127,28.25,6.35,40.02\\n', '2023-12-02 09:54:10,9.968069,51.405742,0.0,189,97152,27.86,6.28,40.02\\n', '2023-12-02 09:54:12,9.968091,51.405735,0.0,144,97152,27.96,6.28,40.05\\n']\n"
     ]
    }
   ],
   "source": [
    "# quick look at the first 10 lines, note the newline escape sequence\n",
    "print(data_lines[0:10])"
   ]
  },
  {
   "cell_type": "code",
   "execution_count": 8,
   "id": "c605d49d-3cfd-40bc-a22d-9c0b68e88ab5",
   "metadata": {
    "tags": []
   },
   "outputs": [
    {
     "name": "stdout",
     "output_type": "stream",
     "text": [
      "Time,Longitude,Latitude,Altitude,CO2,p,Light,T,h\n",
      "\n"
     ]
    }
   ],
   "source": [
    "# how does the header look?(header of WiSe2021/22 measurements)\n",
    "print(data_lines[0])"
   ]
  },
  {
   "cell_type": "code",
   "execution_count": 9,
   "id": "a2f41c42-ad21-4a57-bd0b-2a314280d4fd",
   "metadata": {
    "tags": []
   },
   "outputs": [],
   "source": [
    "# assign the header\n",
    "header = data_lines[0]"
   ]
  },
  {
   "cell_type": "markdown",
   "id": "371650db-4612-43a5-b345-aff8591e0ca8",
   "metadata": {},
   "source": [
    "Follow up with earlier notebooks from the course to turn the data lines into columns that represent the data series."
   ]
  },
  {
   "cell_type": "markdown",
   "id": "c7185e69-2afc-48a2-9fb8-a7c0c836f756",
   "metadata": {},
   "source": [
    "### Split data file with multiple data sets"
   ]
  },
  {
   "cell_type": "code",
   "execution_count": 10,
   "id": "0c44bb24-8635-4a90-967b-bb87edb27dfb",
   "metadata": {
    "tags": []
   },
   "outputs": [
    {
     "name": "stdout",
     "output_type": "stream",
     "text": [
      "[0, 1, 2, 50314, 50315]\n"
     ]
    }
   ],
   "source": [
    "# following an earlier example with several data sets (with header line each) combined in one file,\n",
    "# let's check how many data sets in this file\n",
    "# find header lines (indices) using \"list comprehension\"\n",
    "# e.g https://www.kite.com/python/answers/how-to-find-the-index-of-list-elements-that-meet-a-condition-in-python\n",
    "\n",
    "header_indices = [index for index, line in enumerate(data_lines) if line == header]\n",
    "print(header_indices)"
   ]
  },
  {
   "cell_type": "code",
   "execution_count": 11,
   "id": "c458017c-7ed2-4ca1-861b-0748bbc87928",
   "metadata": {
    "tags": []
   },
   "outputs": [
    {
     "name": "stderr",
     "output_type": "stream",
     "text": [
      "IOPub data rate exceeded.\n",
      "The Jupyter server will temporarily stop sending output\n",
      "to the client in order to avoid crashing it.\n",
      "To change this limit, set the config variable\n",
      "`--ServerApp.iopub_data_rate_limit`.\n",
      "\n",
      "Current values:\n",
      "ServerApp.iopub_data_rate_limit=1000000.0 (bytes/sec)\n",
      "ServerApp.rate_limit_window=3.0 (secs)\n",
      "\n"
     ]
    }
   ],
   "source": [
    "# or read data (not as lines) and use header line found above\n",
    "with open(files[0],'r') as file:\n",
    "    data = file.read()\n",
    "    \n",
    "    print(data)"
   ]
  },
  {
   "cell_type": "code",
   "execution_count": 12,
   "id": "d5509307-f47f-43fc-af7f-036941f9aeaf",
   "metadata": {
    "tags": []
   },
   "outputs": [
    {
     "data": {
      "text/plain": [
       "6"
      ]
     },
     "execution_count": 12,
     "metadata": {},
     "output_type": "execute_result"
    }
   ],
   "source": [
    "# splitting the data using the header removes the header at the same time\n",
    "blocks = data.split(header)\n",
    "len(blocks)"
   ]
  },
  {
   "cell_type": "code",
   "execution_count": 15,
   "id": "830346c0-046f-4834-af32-dc638217a4a2",
   "metadata": {
    "tags": []
   },
   "outputs": [
    {
     "name": "stdout",
     "output_type": "stream",
     "text": [
      "data/data_1.txt\n",
      "data/data_2.txt\n",
      "data/data_3.txt\n",
      "data/data_4.txt\n",
      "data/data_5.txt\n"
     ]
    }
   ],
   "source": [
    "# write separate files for each block\n",
    "# for loop using the indices of header lines found before\n",
    "# case differentiation for the last block to get to the last line of data_lines by simply leaving out a value after the colon\n",
    "\n",
    "for i in range(len(header_indices)):\n",
    "\n",
    "    filename = files[0].split(\".txt\")[-2] + \"_\" + str(i+1) + \".txt\"\n",
    "    print(filename)\n",
    "    if i < len(header_indices)-1:\n",
    "        with open(filename, \"w\") as f:\n",
    "            f.writelines(data_lines[header_indices[i]:header_indices[i+1]])\n",
    "    else:\n",
    "        with open(filename, \"w\") as f:\n",
    "            f.writelines(data_lines[header_indices[i]:])"
   ]
  },
  {
   "cell_type": "code",
   "execution_count": 13,
   "id": "98f2bca9-77c2-415f-91c3-8efc179d7316",
   "metadata": {
    "tags": []
   },
   "outputs": [
    {
     "name": "stdout",
     "output_type": "stream",
     "text": [
      "\n"
     ]
    }
   ],
   "source": [
    "# first data set is 2nd block (first block is empty due to split by header)\n",
    "print(blocks[1][0:500])"
   ]
  }
 ],
 "metadata": {
  "kernelspec": {
   "display_name": "Python 3 (ipykernel)",
   "language": "python",
   "name": "python3"
  },
  "language_info": {
   "codemirror_mode": {
    "name": "ipython",
    "version": 3
   },
   "file_extension": ".py",
   "mimetype": "text/x-python",
   "name": "python",
   "nbconvert_exporter": "python",
   "pygments_lexer": "ipython3",
   "version": "3.11.5"
  }
 },
 "nbformat": 4,
 "nbformat_minor": 5
}
